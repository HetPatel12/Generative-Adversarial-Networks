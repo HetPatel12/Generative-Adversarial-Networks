{
  "cells": [
    {
      "cell_type": "code",
      "execution_count": 1,
      "metadata": {
        "id": "eTI4js0dDH3t"
      },
      "outputs": [],
      "source": [
        "import numpy as np\n",
        "from keras.models import Sequential\n",
        "import matplotlib.pyplot as plt\n",
        "\n",
        "from tensorflow import keras\n",
        "from keras.layers import Conv2D\n",
        "from keras.layers import MaxPooling2D\n",
        "from keras.layers import Flatten\n",
        "from keras.layers import Dense\n",
        "from keras.utils import to_categorical"
      ]
    },
    {
      "cell_type": "markdown",
      "metadata": {
        "id": "buio22ujDMed"
      },
      "source": [
        "# Loading CIFAR10 Dataset for ANN Study"
      ]
    },
    {
      "cell_type": "code",
      "execution_count": 2,
      "metadata": {
        "colab": {
          "base_uri": "https://localhost:8080/"
        },
        "id": "V5EBT9f27aFd",
        "outputId": "9de9d5ce-2c70-4fb1-8637-1a113e7fc4f2"
      },
      "outputs": [
        {
          "name": "stdout",
          "output_type": "stream",
          "text": [
            "Downloading data from https://www.cs.toronto.edu/~kriz/cifar-10-python.tar.gz\n",
            "\u001b[1m170498071/170498071\u001b[0m \u001b[32m━━━━━━━━━━━━━━━━━━━━\u001b[0m\u001b[37m\u001b[0m \u001b[1m4s\u001b[0m 0us/step\n"
          ]
        }
      ],
      "source": [
        "cifar=keras.datasets.cifar10\n",
        "(X_train,y_train),(X_test,y_test)=cifar.load_data()"
      ]
    },
    {
      "cell_type": "code",
      "execution_count": 3,
      "metadata": {
        "id": "Bs9Mp-JJDLGR"
      },
      "outputs": [],
      "source": [
        "X_train=X_train/255.0\n",
        "X_test=X_test/255.0\n",
        "n=len(np.unique(y_train))"
      ]
    },
    {
      "cell_type": "markdown",
      "metadata": {
        "id": "RVINwOIg7r2L"
      },
      "source": [
        "# 2 Hidden Layer Study in ANN"
      ]
    },
    {
      "cell_type": "code",
      "execution_count": 4,
      "metadata": {
        "colab": {
          "base_uri": "https://localhost:8080/"
        },
        "id": "pm7KRfu2DYYX",
        "outputId": "c94490b1-46a4-456b-e4fb-9c83de4686dc"
      },
      "outputs": [
        {
          "name": "stderr",
          "output_type": "stream",
          "text": [
            "/usr/local/lib/python3.10/dist-packages/keras/src/layers/reshaping/flatten.py:37: UserWarning: Do not pass an `input_shape`/`input_dim` argument to a layer. When using Sequential models, prefer using an `Input(shape)` object as the first layer in the model instead.\n",
            "  super().__init__(**kwargs)\n"
          ]
        },
        {
          "name": "stdout",
          "output_type": "stream",
          "text": [
            "Epoch 1/10\n",
            "625/625 - 4s - 6ms/step - accuracy: 0.1650 - loss: 2.1417 - val_accuracy: 0.1760 - val_loss: 2.0846\n",
            "Epoch 2/10\n",
            "625/625 - 2s - 3ms/step - accuracy: 0.1805 - loss: 2.0732 - val_accuracy: 0.1863 - val_loss: 2.0691\n",
            "Epoch 3/10\n",
            "625/625 - 3s - 5ms/step - accuracy: 0.1875 - loss: 2.0638 - val_accuracy: 0.1903 - val_loss: 2.0646\n",
            "Epoch 4/10\n",
            "625/625 - 5s - 7ms/step - accuracy: 0.1873 - loss: 2.0599 - val_accuracy: 0.1821 - val_loss: 2.0782\n",
            "Epoch 5/10\n",
            "625/625 - 3s - 5ms/step - accuracy: 0.1891 - loss: 2.0557 - val_accuracy: 0.1913 - val_loss: 2.0623\n",
            "Epoch 6/10\n",
            "625/625 - 2s - 3ms/step - accuracy: 0.1915 - loss: 2.0561 - val_accuracy: 0.1897 - val_loss: 2.0597\n",
            "Epoch 7/10\n",
            "625/625 - 4s - 6ms/step - accuracy: 0.1884 - loss: 2.0531 - val_accuracy: 0.1874 - val_loss: 2.0658\n",
            "Epoch 8/10\n",
            "625/625 - 4s - 6ms/step - accuracy: 0.1902 - loss: 2.0479 - val_accuracy: 0.1910 - val_loss: 2.0540\n",
            "Epoch 9/10\n",
            "625/625 - 3s - 4ms/step - accuracy: 0.1919 - loss: 2.0499 - val_accuracy: 0.1925 - val_loss: 2.0609\n",
            "Epoch 10/10\n",
            "625/625 - 2s - 3ms/step - accuracy: 0.1926 - loss: 2.0505 - val_accuracy: 0.1895 - val_loss: 2.0688\n",
            "\u001b[1m313/313\u001b[0m \u001b[32m━━━━━━━━━━━━━━━━━━━━\u001b[0m\u001b[37m\u001b[0m \u001b[1m0s\u001b[0m 1ms/step - accuracy: 0.2020 - loss: 2.0574\n"
          ]
        },
        {
          "data": {
            "text/plain": [
              "[2.0551371574401855, 0.19329999387264252]"
            ]
          },
          "execution_count": 4,
          "metadata": {},
          "output_type": "execute_result"
        }
      ],
      "source": [
        "y_train=to_categorical(y_train,n)\n",
        "y_test=to_categorical(y_test,n)\n",
        "model = Sequential()\n",
        "model.add(Flatten(input_shape=(32, 32, 3)))\n",
        "model.add(Dense(units=32,activation='relu'))\n",
        "model.add(Dense(units=64,activation='relu'))\n",
        "model.add(Dense(units=10,activation='softmax'))\n",
        "\n",
        "model.compile(optimizer='adam',loss='categorical_crossentropy',\n",
        "              metrics=['accuracy'])\n",
        "answer=model.fit(X_train,y_train,epochs=10,verbose=2,\n",
        "                 validation_split=0.2, batch_size=64)\n",
        "model.evaluate(X_test,y_test)"
      ]
    },
    {
      "cell_type": "code",
      "execution_count": 5,
      "metadata": {
        "colab": {
          "base_uri": "https://localhost:8080/"
        },
        "id": "98EP6jU3Dsyj",
        "outputId": "02fb6c9f-ed6b-42bb-ea55-dc367c91c63b"
      },
      "outputs": [
        {
          "name": "stdout",
          "output_type": "stream",
          "text": [
            "313/313 - 1s - 2ms/step - accuracy: 0.1933 - loss: 2.0551\n",
            "\n",
            "Test accuracy for 2 Hidden Layer: 0.193\n"
          ]
        }
      ],
      "source": [
        "test_loss, test_acc = model.evaluate(X_test, y_test, verbose=2)\n",
        "print(f'\\nTest accuracy for 2 Hidden Layer: {test_acc:.3f}')"
      ]
    },
    {
      "cell_type": "markdown",
      "metadata": {
        "id": "PBj7ExTgDxrW"
      },
      "source": [
        "# 3 Hidden Layer Study in ANN"
      ]
    },
    {
      "cell_type": "code",
      "execution_count": 6,
      "metadata": {
        "colab": {
          "base_uri": "https://localhost:8080/"
        },
        "id": "cXW1fCAcDw3l",
        "outputId": "7a5ccb38-76f3-4523-a492-eba5ce6dbb99"
      },
      "outputs": [
        {
          "name": "stdout",
          "output_type": "stream",
          "text": [
            "Epoch 1/10\n",
            "625/625 - 4s - 6ms/step - accuracy: 0.2867 - loss: 1.9323 - val_accuracy: 0.3414 - val_loss: 1.8155\n",
            "Epoch 2/10\n",
            "625/625 - 4s - 7ms/step - accuracy: 0.3614 - loss: 1.7710 - val_accuracy: 0.3784 - val_loss: 1.7356\n",
            "Epoch 3/10\n",
            "625/625 - 4s - 6ms/step - accuracy: 0.3812 - loss: 1.7156 - val_accuracy: 0.3831 - val_loss: 1.7230\n",
            "Epoch 4/10\n",
            "625/625 - 2s - 4ms/step - accuracy: 0.3987 - loss: 1.6736 - val_accuracy: 0.3878 - val_loss: 1.7219\n",
            "Epoch 5/10\n",
            "625/625 - 3s - 4ms/step - accuracy: 0.4070 - loss: 1.6496 - val_accuracy: 0.3884 - val_loss: 1.7010\n",
            "Epoch 6/10\n",
            "625/625 - 2s - 3ms/step - accuracy: 0.4140 - loss: 1.6324 - val_accuracy: 0.4141 - val_loss: 1.6514\n",
            "Epoch 7/10\n",
            "625/625 - 2s - 3ms/step - accuracy: 0.4199 - loss: 1.6132 - val_accuracy: 0.3879 - val_loss: 1.6883\n",
            "Epoch 8/10\n",
            "625/625 - 4s - 6ms/step - accuracy: 0.4206 - loss: 1.6043 - val_accuracy: 0.3906 - val_loss: 1.6876\n",
            "Epoch 9/10\n",
            "625/625 - 2s - 3ms/step - accuracy: 0.4261 - loss: 1.5971 - val_accuracy: 0.4138 - val_loss: 1.6224\n",
            "Epoch 10/10\n",
            "625/625 - 3s - 4ms/step - accuracy: 0.4300 - loss: 1.5798 - val_accuracy: 0.4070 - val_loss: 1.6751\n"
          ]
        }
      ],
      "source": [
        "model1 = Sequential()\n",
        "model1.add(Flatten(input_shape=(32, 32, 3)))\n",
        "model1.add(Dense(units=32,activation='relu'))\n",
        "model1.add(Dense(units=64,activation='relu'))\n",
        "model1.add(Dense(units=64,activation='relu'))\n",
        "model1.add(Dense(units=10,activation='softmax'))\n",
        "\n",
        "model1.compile(optimizer='adam',loss='categorical_crossentropy',\n",
        "               metrics=['accuracy'])\n",
        "answer=model1.fit(X_train,y_train,epochs=10,verbose=2,\n",
        "                  validation_split=0.2,batch_size=64)"
      ]
    },
    {
      "cell_type": "code",
      "execution_count": 7,
      "metadata": {
        "colab": {
          "base_uri": "https://localhost:8080/"
        },
        "id": "d7MxS1BwEaO9",
        "outputId": "af2eaa0e-1241-4a5d-b400-162e3ffd0b6c"
      },
      "outputs": [
        {
          "name": "stdout",
          "output_type": "stream",
          "text": [
            "313/313 - 0s - 1ms/step - accuracy: 0.4106 - loss: 1.6494\n",
            "\n",
            "Test accuracy for 3 hidden layer: 0.411\n"
          ]
        }
      ],
      "source": [
        "test_loss, test_acc = model1.evaluate(X_test, y_test, verbose=2)\n",
        "print(f'\\nTest accuracy for 3 hidden layer: {test_acc:.3f}')"
      ]
    },
    {
      "cell_type": "markdown",
      "metadata": {
        "id": "HUq-JB5EEesW"
      },
      "source": [
        "# 1 Hidden Layer Study in ANN"
      ]
    },
    {
      "cell_type": "code",
      "execution_count": 8,
      "metadata": {
        "colab": {
          "base_uri": "https://localhost:8080/"
        },
        "id": "ec_L9rwNEiQq",
        "outputId": "ca7484c7-cf68-43d1-97c5-affccc5c2313"
      },
      "outputs": [
        {
          "name": "stdout",
          "output_type": "stream",
          "text": [
            "Epoch 1/10\n",
            "625/625 - 3s - 5ms/step - accuracy: 0.2573 - loss: 2.0219 - val_accuracy: 0.2939 - val_loss: 1.9700\n",
            "Epoch 2/10\n",
            "625/625 - 4s - 6ms/step - accuracy: 0.3056 - loss: 1.9076 - val_accuracy: 0.3091 - val_loss: 1.9057\n",
            "Epoch 3/10\n",
            "625/625 - 4s - 6ms/step - accuracy: 0.3198 - loss: 1.8722 - val_accuracy: 0.3197 - val_loss: 1.8838\n",
            "Epoch 4/10\n",
            "625/625 - 3s - 4ms/step - accuracy: 0.3205 - loss: 1.8584 - val_accuracy: 0.3151 - val_loss: 1.8869\n",
            "Epoch 5/10\n",
            "625/625 - 2s - 3ms/step - accuracy: 0.3301 - loss: 1.8443 - val_accuracy: 0.3292 - val_loss: 1.8511\n",
            "Epoch 6/10\n",
            "625/625 - 4s - 6ms/step - accuracy: 0.3334 - loss: 1.8356 - val_accuracy: 0.3187 - val_loss: 1.8665\n",
            "Epoch 7/10\n",
            "625/625 - 5s - 7ms/step - accuracy: 0.3346 - loss: 1.8285 - val_accuracy: 0.3320 - val_loss: 1.8433\n",
            "Epoch 8/10\n",
            "625/625 - 5s - 7ms/step - accuracy: 0.3390 - loss: 1.8243 - val_accuracy: 0.3417 - val_loss: 1.8367\n",
            "Epoch 9/10\n",
            "625/625 - 3s - 5ms/step - accuracy: 0.3401 - loss: 1.8200 - val_accuracy: 0.3353 - val_loss: 1.8498\n",
            "Epoch 10/10\n",
            "625/625 - 3s - 4ms/step - accuracy: 0.3415 - loss: 1.8133 - val_accuracy: 0.3386 - val_loss: 1.8288\n"
          ]
        }
      ],
      "source": [
        "model2 = Sequential()\n",
        "model2.add(Flatten(input_shape=(32, 32, 3)))\n",
        "model2.add(Dense(units=32,activation='relu'))\n",
        "model2.add(Dense(units=10,activation='softmax'))\n",
        "model2.compile(optimizer='adam',loss='categorical_crossentropy',\n",
        "               metrics=['accuracy'])\n",
        "answer=model2.fit(X_train,y_train,epochs=10,verbose=2,\n",
        "                  validation_split=0.2,batch_size=64)"
      ]
    },
    {
      "cell_type": "code",
      "execution_count": 9,
      "metadata": {
        "colab": {
          "base_uri": "https://localhost:8080/"
        },
        "id": "XhGDvKrPEpKL",
        "outputId": "b57991e1-bc50-49cb-c88f-6867371cfa61"
      },
      "outputs": [
        {
          "name": "stdout",
          "output_type": "stream",
          "text": [
            "313/313 - 0s - 1ms/step - accuracy: 0.3374 - loss: 1.8132\n",
            "\n",
            "Test accuracy for 1 hidden layer: 0.337\n"
          ]
        }
      ],
      "source": [
        "test_loss, test_acc = model2.evaluate(X_test, y_test, verbose=2)\n",
        "print(f'\\nTest accuracy for 1 hidden layer: {test_acc:.3f}')"
      ]
    },
    {
      "cell_type": "markdown",
      "metadata": {
        "id": "XXODHTs4dMjx"
      },
      "source": [
        "# Conclusion\n",
        "\n",
        "As we decreases the the hidden layer, the test accuracy decreases due to limited learning capacity, underfitting and loss of hierarchial feature extraction.\n",
        "\n",
        "CIFAR10 Dataset gives less accuracy than FashionMNIST Dataset, which means that CIFAR10 is more complex than FashionMNIST. CIFAR10 requires more no. of CNN Blocks to reach the accuracy of that of the FashionMNIST."
      ]
    }
  ],
  "metadata": {
    "colab": {
      "provenance": [],
      "toc_visible": true
    },
    "kernelspec": {
      "display_name": "Python 3",
      "name": "python3"
    }
  },
  "nbformat": 4,
  "nbformat_minor": 0
}
