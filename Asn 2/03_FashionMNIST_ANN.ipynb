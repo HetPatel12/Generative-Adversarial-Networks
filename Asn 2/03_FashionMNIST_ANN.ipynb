{
  "cells": [
    {
      "cell_type": "code",
      "source": [
        "import matplotlib.pyplot as plt\n",
        "import numpy as np\n",
        "\n",
        "from tensorflow import keras\n",
        "from keras.layers import Conv2D, MaxPooling2D, Flatten, Dense\n",
        "from keras.models import Sequential\n",
        "from keras.utils import to_categorical"
      ],
      "metadata": {
        "id": "d8JO-pRqFMCG"
      },
      "execution_count": 1,
      "outputs": []
    },
    {
      "cell_type": "markdown",
      "source": [
        "# Loading FashionMNIST Dataset"
      ],
      "metadata": {
        "id": "0jWL7A41HHM_"
      }
    },
    {
      "cell_type": "code",
      "source": [
        "fashion_mnist = keras.datasets.fashion_mnist\n",
        "(X_train,y_train),(X_test,y_test) = fashion_mnist.load_data()"
      ],
      "metadata": {
        "colab": {
          "base_uri": "https://localhost:8080/"
        },
        "id": "IySAw8obeJQI",
        "outputId": "a0978e74-53ba-4e29-801f-b44759ba77f2"
      },
      "execution_count": 2,
      "outputs": [
        {
          "output_type": "stream",
          "name": "stdout",
          "text": [
            "Downloading data from https://storage.googleapis.com/tensorflow/tf-keras-datasets/train-labels-idx1-ubyte.gz\n",
            "\u001b[1m29515/29515\u001b[0m \u001b[32m━━━━━━━━━━━━━━━━━━━━\u001b[0m\u001b[37m\u001b[0m \u001b[1m0s\u001b[0m 0us/step\n",
            "Downloading data from https://storage.googleapis.com/tensorflow/tf-keras-datasets/train-images-idx3-ubyte.gz\n",
            "\u001b[1m26421880/26421880\u001b[0m \u001b[32m━━━━━━━━━━━━━━━━━━━━\u001b[0m\u001b[37m\u001b[0m \u001b[1m2s\u001b[0m 0us/step\n",
            "Downloading data from https://storage.googleapis.com/tensorflow/tf-keras-datasets/t10k-labels-idx1-ubyte.gz\n",
            "\u001b[1m5148/5148\u001b[0m \u001b[32m━━━━━━━━━━━━━━━━━━━━\u001b[0m\u001b[37m\u001b[0m \u001b[1m0s\u001b[0m 1us/step\n",
            "Downloading data from https://storage.googleapis.com/tensorflow/tf-keras-datasets/t10k-images-idx3-ubyte.gz\n",
            "\u001b[1m4422102/4422102\u001b[0m \u001b[32m━━━━━━━━━━━━━━━━━━━━\u001b[0m\u001b[37m\u001b[0m \u001b[1m1s\u001b[0m 0us/step\n"
          ]
        }
      ]
    },
    {
      "cell_type": "code",
      "source": [
        "X_train=X_train/255.0\n",
        "X_test=X_test/255.0\n",
        "n=len(np.unique(y_train))"
      ],
      "metadata": {
        "id": "Be-u2yPPHK8h"
      },
      "execution_count": 3,
      "outputs": []
    },
    {
      "cell_type": "code",
      "source": [
        "y_train=to_categorical(y_train,n)\n",
        "y_test=to_categorical(y_test,n)"
      ],
      "metadata": {
        "id": "ViSv5MkHHW1K"
      },
      "execution_count": 4,
      "outputs": []
    },
    {
      "cell_type": "markdown",
      "source": [
        "# 2 Hidden Layer ANN"
      ],
      "metadata": {
        "id": "hGFEXzpwe7n_"
      }
    },
    {
      "cell_type": "code",
      "source": [
        "model = Sequential()\n",
        "model.add(Flatten(input_shape=(28, 28)))\n",
        "model.add(Dense(units=32,activation='relu'))\n",
        "model.add(Dense(units=64,activation='relu'))\n",
        "model.add(Dense(units=10,activation='softmax'))\n",
        "model.compile(optimizer='adam',loss='categorical_crossentropy',\n",
        "              metrics=['accuracy'])\n",
        "answer=model.fit(X_train,y_train,epochs=10,verbose=2,\n",
        "                 validation_split=0.2,batch_size=64)\n"
      ],
      "metadata": {
        "id": "49hnZDI5HXaY",
        "outputId": "e0557b7b-ee9d-4102-bd5e-bf32c959406d",
        "colab": {
          "base_uri": "https://localhost:8080/"
        }
      },
      "execution_count": 5,
      "outputs": [
        {
          "output_type": "stream",
          "name": "stderr",
          "text": [
            "/usr/local/lib/python3.10/dist-packages/keras/src/layers/reshaping/flatten.py:37: UserWarning: Do not pass an `input_shape`/`input_dim` argument to a layer. When using Sequential models, prefer using an `Input(shape)` object as the first layer in the model instead.\n",
            "  super().__init__(**kwargs)\n"
          ]
        },
        {
          "output_type": "stream",
          "name": "stdout",
          "text": [
            "Epoch 1/10\n",
            "750/750 - 4s - 6ms/step - accuracy: 0.7916 - loss: 0.5993 - val_accuracy: 0.8402 - val_loss: 0.4618\n",
            "Epoch 2/10\n",
            "750/750 - 2s - 2ms/step - accuracy: 0.8513 - loss: 0.4201 - val_accuracy: 0.8531 - val_loss: 0.4127\n",
            "Epoch 3/10\n",
            "750/750 - 3s - 3ms/step - accuracy: 0.8632 - loss: 0.3787 - val_accuracy: 0.8610 - val_loss: 0.3865\n",
            "Epoch 4/10\n",
            "750/750 - 2s - 3ms/step - accuracy: 0.8719 - loss: 0.3561 - val_accuracy: 0.8702 - val_loss: 0.3660\n",
            "Epoch 5/10\n",
            "750/750 - 3s - 5ms/step - accuracy: 0.8784 - loss: 0.3360 - val_accuracy: 0.8734 - val_loss: 0.3532\n",
            "Epoch 6/10\n",
            "750/750 - 2s - 3ms/step - accuracy: 0.8818 - loss: 0.3216 - val_accuracy: 0.8703 - val_loss: 0.3602\n",
            "Epoch 7/10\n",
            "750/750 - 2s - 2ms/step - accuracy: 0.8853 - loss: 0.3117 - val_accuracy: 0.8725 - val_loss: 0.3596\n",
            "Epoch 8/10\n",
            "750/750 - 2s - 3ms/step - accuracy: 0.8866 - loss: 0.3055 - val_accuracy: 0.8716 - val_loss: 0.3533\n",
            "Epoch 9/10\n",
            "750/750 - 2s - 3ms/step - accuracy: 0.8925 - loss: 0.2918 - val_accuracy: 0.8780 - val_loss: 0.3371\n",
            "Epoch 10/10\n",
            "750/750 - 2s - 2ms/step - accuracy: 0.8942 - loss: 0.2860 - val_accuracy: 0.8767 - val_loss: 0.3536\n"
          ]
        }
      ]
    },
    {
      "cell_type": "code",
      "source": [
        "test_loss, test_acc = model.evaluate(X_test, y_test, verbose=2)\n",
        "print(f'\\nTest accuracy for 2 Hidden Layers: {test_acc:.3f}')"
      ],
      "metadata": {
        "id": "av6SfL58HgUL",
        "outputId": "9aa54dcb-76d9-4f24-d934-98c0086ef093",
        "colab": {
          "base_uri": "https://localhost:8080/"
        }
      },
      "execution_count": 6,
      "outputs": [
        {
          "output_type": "stream",
          "name": "stdout",
          "text": [
            "313/313 - 1s - 2ms/step - accuracy: 0.8677 - loss: 0.3839\n",
            "\n",
            "Test accuracy for 2 Hidden Layers: 0.868\n"
          ]
        }
      ]
    },
    {
      "cell_type": "markdown",
      "source": [
        "# 3 hidden layer ANN"
      ],
      "metadata": {
        "id": "CUARVOyMHprv"
      }
    },
    {
      "cell_type": "code",
      "source": [
        "model1 = Sequential()\n",
        "model1.add(Flatten(input_shape=(28, 28)))\n",
        "model1.add(Dense(units=32,activation='relu'))\n",
        "model1.add(Dense(units=64,activation='relu'))\n",
        "model1.add(Dense(units=64,activation='relu'))\n",
        "model1.add(Dense(units=10,activation='softmax'))\n",
        "model1.compile(optimizer='adam',loss='categorical_crossentropy',\n",
        "               metrics=['accuracy'])\n",
        "answer=model1.fit(X_train,y_train,epochs=10,verbose=2,\n",
        "                  validation_split=0.2,batch_size=64)"
      ],
      "metadata": {
        "id": "LJuvn_F6Ho8R",
        "outputId": "526f2d45-373a-4523-803e-ea8bc12b963b",
        "colab": {
          "base_uri": "https://localhost:8080/"
        }
      },
      "execution_count": 7,
      "outputs": [
        {
          "output_type": "stream",
          "name": "stdout",
          "text": [
            "Epoch 1/10\n",
            "750/750 - 4s - 5ms/step - accuracy: 0.7864 - loss: 0.6090 - val_accuracy: 0.8408 - val_loss: 0.4511\n",
            "Epoch 2/10\n",
            "750/750 - 2s - 3ms/step - accuracy: 0.8515 - loss: 0.4148 - val_accuracy: 0.8538 - val_loss: 0.4029\n",
            "Epoch 3/10\n",
            "750/750 - 3s - 3ms/step - accuracy: 0.8643 - loss: 0.3739 - val_accuracy: 0.8478 - val_loss: 0.4099\n",
            "Epoch 4/10\n",
            "750/750 - 2s - 3ms/step - accuracy: 0.8718 - loss: 0.3508 - val_accuracy: 0.8656 - val_loss: 0.3736\n",
            "Epoch 5/10\n",
            "750/750 - 3s - 4ms/step - accuracy: 0.8786 - loss: 0.3328 - val_accuracy: 0.8707 - val_loss: 0.3574\n",
            "Epoch 6/10\n",
            "750/750 - 2s - 2ms/step - accuracy: 0.8813 - loss: 0.3189 - val_accuracy: 0.8728 - val_loss: 0.3513\n",
            "Epoch 7/10\n",
            "750/750 - 3s - 4ms/step - accuracy: 0.8864 - loss: 0.3097 - val_accuracy: 0.8758 - val_loss: 0.3435\n",
            "Epoch 8/10\n",
            "750/750 - 2s - 2ms/step - accuracy: 0.8900 - loss: 0.2977 - val_accuracy: 0.8732 - val_loss: 0.3496\n",
            "Epoch 9/10\n",
            "750/750 - 2s - 2ms/step - accuracy: 0.8932 - loss: 0.2872 - val_accuracy: 0.8798 - val_loss: 0.3336\n",
            "Epoch 10/10\n",
            "750/750 - 3s - 4ms/step - accuracy: 0.8958 - loss: 0.2807 - val_accuracy: 0.8731 - val_loss: 0.3494\n"
          ]
        }
      ]
    },
    {
      "cell_type": "code",
      "source": [
        "test_loss, test_acc = model1.evaluate(X_test, y_test, verbose=2)\n",
        "print(f'\\nTest accuracy for 3 Hidden Layers: {test_acc:.3f}')"
      ],
      "metadata": {
        "id": "O2q5wJmFHz54",
        "outputId": "11639a72-7c5f-468d-8286-ec3674ba5aa0",
        "colab": {
          "base_uri": "https://localhost:8080/"
        }
      },
      "execution_count": 8,
      "outputs": [
        {
          "output_type": "stream",
          "name": "stdout",
          "text": [
            "313/313 - 1s - 2ms/step - accuracy: 0.8653 - loss: 0.3724\n",
            "\n",
            "Test accuracy for 3 Hidden Layers: 0.865\n"
          ]
        }
      ]
    },
    {
      "cell_type": "markdown",
      "source": [
        "# 1 Hidden Layer ANN"
      ],
      "metadata": {
        "id": "wBVa7qqxH101"
      }
    },
    {
      "cell_type": "code",
      "source": [
        "model2 = Sequential()\n",
        "model2.add(Flatten(input_shape=(28,28)))\n",
        "model2.add(Dense(units=32,activation='relu'))\n",
        "model2.add(Dense(units=10,activation='softmax'))\n",
        "model2.compile(optimizer='adam',loss='categorical_crossentropy',\n",
        "               metrics=['accuracy'])\n",
        "answer=model2.fit(X_train,y_train,epochs=10,verbose=2,\n",
        "                  validation_split=0.2,batch_size=64)\n"
      ],
      "metadata": {
        "id": "kad7hPS6H5c_",
        "outputId": "a80f9953-70b2-437b-991b-8d72ca6391c6",
        "colab": {
          "base_uri": "https://localhost:8080/"
        }
      },
      "execution_count": 9,
      "outputs": [
        {
          "output_type": "stream",
          "name": "stdout",
          "text": [
            "Epoch 1/10\n",
            "750/750 - 3s - 3ms/step - accuracy: 0.7848 - loss: 0.6347 - val_accuracy: 0.8336 - val_loss: 0.4684\n",
            "Epoch 2/10\n",
            "750/750 - 2s - 3ms/step - accuracy: 0.8467 - loss: 0.4413 - val_accuracy: 0.8467 - val_loss: 0.4430\n",
            "Epoch 3/10\n",
            "750/750 - 1s - 2ms/step - accuracy: 0.8571 - loss: 0.4067 - val_accuracy: 0.8583 - val_loss: 0.4096\n",
            "Epoch 4/10\n",
            "750/750 - 2s - 3ms/step - accuracy: 0.8646 - loss: 0.3852 - val_accuracy: 0.8577 - val_loss: 0.4093\n",
            "Epoch 5/10\n",
            "750/750 - 4s - 5ms/step - accuracy: 0.8689 - loss: 0.3691 - val_accuracy: 0.8608 - val_loss: 0.3904\n",
            "Epoch 6/10\n",
            "750/750 - 2s - 2ms/step - accuracy: 0.8715 - loss: 0.3587 - val_accuracy: 0.8652 - val_loss: 0.3805\n",
            "Epoch 7/10\n",
            "750/750 - 3s - 3ms/step - accuracy: 0.8769 - loss: 0.3469 - val_accuracy: 0.8703 - val_loss: 0.3689\n",
            "Epoch 8/10\n",
            "750/750 - 2s - 3ms/step - accuracy: 0.8786 - loss: 0.3394 - val_accuracy: 0.8634 - val_loss: 0.3815\n",
            "Epoch 9/10\n",
            "750/750 - 3s - 4ms/step - accuracy: 0.8808 - loss: 0.3317 - val_accuracy: 0.8627 - val_loss: 0.3890\n",
            "Epoch 10/10\n",
            "750/750 - 4s - 5ms/step - accuracy: 0.8828 - loss: 0.3254 - val_accuracy: 0.8652 - val_loss: 0.3700\n"
          ]
        }
      ]
    },
    {
      "cell_type": "code",
      "source": [
        "test_loss, test_acc = model2.evaluate(X_test, y_test, verbose=2)\n",
        "print(f'\\nTest accuracy for 1 Hidden Layer: {test_acc:.3f}')\n"
      ],
      "metadata": {
        "id": "3_2X8uq0IBUu",
        "outputId": "32bb5184-a548-497f-93f7-94ee0adeeb92",
        "colab": {
          "base_uri": "https://localhost:8080/"
        }
      },
      "execution_count": 11,
      "outputs": [
        {
          "output_type": "stream",
          "name": "stdout",
          "text": [
            "313/313 - 0s - 1ms/step - accuracy: 0.8610 - loss: 0.3981\n",
            "\n",
            "Test accuracy for 1 Hidden Layer: 0.861\n"
          ]
        }
      ]
    },
    {
      "cell_type": "markdown",
      "source": [
        "# Conclusion\n",
        "\n",
        "As the FashionMNIST Dataset is simpler than CIFAR10 Dataset, it shows more test accuracy at the same no. of hidden layer than that in CIFAR10.\n",
        "\n",
        "For 2 hidden layers it was the highest means than that of 1 and 3 hidden layer architectures. Test Accuracy was lower for 1 hidden layer architecture than that of 3 layer architecture.\n",
        "\n",
        "As we decrease the hidden layer, test accuracy decreases (at 1 hidden layer architecture) due to limited learning capacity, underfitting and loss of hierarchial feature extraction. It also suffers overfitting (at 3 hidden layer architecture) which lead to decrement in test accuracy."
      ],
      "metadata": {
        "id": "VBkipCCThF62"
      }
    }
  ],
  "metadata": {
    "colab": {
      "toc_visible": true,
      "provenance": []
    },
    "kernelspec": {
      "display_name": "Python 3",
      "name": "python3"
    }
  },
  "nbformat": 4,
  "nbformat_minor": 0
}